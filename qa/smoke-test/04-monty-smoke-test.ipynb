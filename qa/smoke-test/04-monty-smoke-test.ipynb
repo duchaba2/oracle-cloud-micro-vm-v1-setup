{
 "cells": [
  {
   "cell_type": "markdown",
   "metadata": {},
   "source": [
    "## Monty Smoke Test"
   ]
  },
  {
   "cell_type": "code",
   "execution_count": null,
   "metadata": {},
   "outputs": [],
   "source": [
    "import matplotlib\n",
    "%reload_ext autoreload\n",
    "%autoreload 2\n",
    "%matplotlib inline"
   ]
  },
  {
   "cell_type": "code",
   "execution_count": 2,
   "metadata": {},
   "outputs": [
    {
     "name": "stdout",
     "output_type": "stream",
     "text": [
      "init --  base_monty\n",
      "init --  _bag\n",
      "init --  _clean  -- in base_action class\n",
      "init --  _clean\n",
      "parent:  base_monty\n",
      "init --  _copy  -- in base_action class\n",
      "init --  _copy\n",
      "parent:  base_monty\n",
      "init --  _dance  -- in base_action class\n",
      "init --  _dance\n",
      "parent:  base_monty\n",
      "init --  _draw  -- in base_action class\n",
      "init --  _draw\n",
      "parent:  base_monty\n",
      "init --  _fetch  -- in base_action class\n",
      "init --  _fetch\n",
      "parent:  base_monty\n",
      "init --  _get  -- in base_action class\n",
      "init --  _get\n",
      "parent:  base_monty\n",
      "init --  _handsake  -- in base_action class\n",
      "init --  _handsake\n",
      "parent:  base_monty\n",
      "init --  _pack  -- in base_action class\n",
      "init --  _pack\n",
      "parent:  base_monty\n",
      "init --  _print  -- in base_action class\n",
      "init --  _print\n",
      "parent:  base_monty\n",
      "init --  _said  -- in base_action class\n",
      "init --  _said\n",
      "parent:  base_monty\n",
      "init --  _store  -- in base_action class\n",
      "init --  _store\n",
      "parent:  base_monty\n",
      "init --  _unpack  -- in base_action class\n",
      "init --  _unpack\n",
      "parent:  base_monty\n"
     ]
    }
   ],
   "source": [
    "# import Monty and create a monty instant. The preference is NOT using global space\n",
    "import monty_fastai_v1.monty_fastai_util as monty_fastai_util\n",
    "monty = monty_fastai_util.base_monty()"
   ]
  },
  {
   "cell_type": "code",
   "execution_count": 3,
   "metadata": {},
   "outputs": [
    {
     "name": "stdout",
     "output_type": "stream",
     "text": [
      "\n",
      "System current date and time (YYYY/MM/DD HH:MM) is:  2019/11/10 02:28\n",
      "\n",
      "The platform is:  linux\n",
      "Python version is:  3.6.8 (default, Oct  7 2019, 12:59:55) \n",
      "[GCC 8.3.0]\n",
      "PyTorch version is:  1.2.0\n",
      "Fastai version is:  1.0.60.dev0\n",
      "Monty version is:  0.6.0\n",
      "\n",
      "Server or Labtop info:\n",
      "The Number of CPU is:  2\n",
      "CPU current speed is:  2.0 GHz\n",
      "CPU max speed is:  0.0 GHz\n",
      "RAM total is:  0.96 Gb\n",
      "RAM free is:  0.54 Gb  :  55.8 %\n",
      "GPU-Cuda available:  False\n",
      "Disk space total is:  44.97 Gb\n",
      "Disk space free is:  38.66 Gb  :  86.0 %\n",
      "The current directory: /home/ubuntu/data/oracle-cloud-micro-vm-v1-setup/qa/smoke-test\n",
      "It contains:\n",
      "./\n",
      "    nodejs-http-hello.js\n",
      "    jupyter_notebook_config.py\n",
      "    02-setup-jupyter-notebook.sh\n",
      "    03-jupyter-notebook.sh\n",
      "    Untitled.ipynb\n",
      "    01-nodejs-http-hello.sh\n",
      "    .ipynb_checkpoints/\n",
      "        Untitled-checkpoint.ipynb\n",
      "Python import packages are installed:\n",
      "/usr/lib/python36.zip\n",
      "/usr/lib/python3.6\n",
      "/usr/lib/python3.6/lib-dynload\n",
      "\n",
      "/usr/local/lib/python3.6/dist-packages\n",
      "/usr/lib/python3/dist-packages\n",
      "/usr/local/lib/python3.6/dist-packages/IPython/extensions\n",
      "/home/ubuntu/.ipython\n",
      "---FastAI report:\n",
      "\n",
      "\n",
      "```text\n",
      "=== Software === \n",
      "python       : 3.6.8\n",
      "fastai       : 1.0.60.dev0\n",
      "fastprogress : 0.1.21\n",
      "torch        : 1.2.0\n",
      "torch cuda   : 10.0.130 / is **Not available** \n",
      "\n",
      "=== Hardware === \n",
      "No GPUs available \n",
      "\n",
      "=== Environment === \n",
      "platform     : Linux-4.15.0-1026-oracle-x86_64-with-Ubuntu-18.04-bionic\n",
      "distro       : #29-Ubuntu SMP Wed Sep 18 10:17:09 UTC 2019\n",
      "conda env    : Unknown\n",
      "python       : /usr/bin/python3\n",
      "sys.path     : /usr/lib/python36.zip\n",
      "/usr/lib/python3.6\n",
      "/usr/lib/python3.6/lib-dynload\n",
      "\n",
      "/usr/local/lib/python3.6/dist-packages\n",
      "/usr/lib/python3/dist-packages\n",
      "/usr/local/lib/python3.6/dist-packages/IPython/extensions\n",
      "/home/ubuntu/.ipython\n",
      "no supported gpus found on this system\n",
      "```\n",
      "\n",
      "Please make sure to include opening/closing ``` when you paste into forums/github to make the reports appear formatted as code sections.\n",
      "\n",
      "Optional package(s) to enhance the diagnostics can be installed with:\n",
      "pip install distro\n",
      "Once installed, re-run this utility to get the additional information\n"
     ]
    }
   ],
   "source": [
    "# check the labtop/server info\n",
    "monty.print.sys_info()"
   ]
  },
  {
   "cell_type": "code",
   "execution_count": null,
   "metadata": {},
   "outputs": [],
   "source": []
  }
 ],
 "metadata": {
  "kernelspec": {
   "display_name": "Python 3",
   "language": "python",
   "name": "python3"
  },
  "language_info": {
   "codemirror_mode": {
    "name": "ipython",
    "version": 3
   },
   "file_extension": ".py",
   "mimetype": "text/x-python",
   "name": "python",
   "nbconvert_exporter": "python",
   "pygments_lexer": "ipython3",
   "version": "3.6.8"
  }
 },
 "nbformat": 4,
 "nbformat_minor": 2
}
